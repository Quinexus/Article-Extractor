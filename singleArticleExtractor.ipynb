{
 "cells": [
  {
   "cell_type": "markdown",
   "metadata": {},
   "source": [
    "Importing OpenAI api. Use your own API key!"
   ]
  },
  {
   "cell_type": "code",
   "execution_count": null,
   "metadata": {},
   "outputs": [],
   "source": [
    "from openai import OpenAI\n",
    "# Use your own api key here!\n",
    "client = OpenAI(api_key=\"\")"
   ]
  },
  {
   "cell_type": "markdown",
   "metadata": {},
   "source": [
    "From your search extract the add your list of DOI as a text file in the same directory"
   ]
  },
  {
   "cell_type": "markdown",
   "metadata": {},
   "source": [
    "Load in the function to get Beautiful Soup data from a given doi"
   ]
  },
  {
   "cell_type": "code",
   "execution_count": null,
   "metadata": {},
   "outputs": [],
   "source": [
    "from bs4 import BeautifulSoup\n",
    "import requests\n",
    "\n",
    "def get_data(url):\n",
    "    response = requests.get(url)\n",
    "    soup = BeautifulSoup(response.content, 'html.parser')\n",
    "\n",
    "    return ''.join(soup.body.get_text().split())"
   ]
  },
  {
   "cell_type": "code",
   "execution_count": null,
   "metadata": {},
   "outputs": [],
   "source": [
    "from selenium import webdriver\n",
    "from selenium.webdriver.common.by import By\n",
    "from selenium.webdriver.common.keys import Keys\n",
    "import time\n",
    "\n",
    "ChromeDriver = webdriver.Chrome()\n",
    "\n",
    "# Function to extract data using selenium\n",
    "def get_selenium_data(url):\n",
    "    driver = ChromeDriver\n",
    "    driver.get(url)\n",
    "    \n",
    "    while input(\"Enter to extract data\"):\n",
    "        pass\n",
    "\n",
    "    page_source = driver.page_source\n",
    "    driver.close()\n",
    "    soup = BeautifulSoup(page_source, 'html.parser')\n",
    "    return ''.join(soup.body.get_text().split())"
   ]
  },
  {
   "cell_type": "code",
   "execution_count": null,
   "metadata": {},
   "outputs": [],
   "source": [
    "# INPUT: Edit prompts and Choose model\n",
    "chat_gpt_model = \"gpt-4o\"\n",
    "\n",
    "# Load in function to analyse webpage\n",
    "def analyse(soup_content):\n",
    "    completion = client.beta.chat.completions.parse(\n",
    "        model= chat_gpt_model,\n",
    "        messages=[\n",
    "            {\n",
    "                \"role\": \"user\",\n",
    "                \"content\": \"Summarise the given article in detail using bullet points: \" + soup_content\n",
    "            },\n",
    "        ],\n",
    "    )\n",
    "    return completion.choices[0].message.content"
   ]
  },
  {
   "cell_type": "markdown",
   "metadata": {},
   "source": [
    "Analyse the data using the below code chunk"
   ]
  },
  {
   "cell_type": "code",
   "execution_count": null,
   "metadata": {},
   "outputs": [],
   "source": [
    "url = \"\" # Article link goes here\n",
    "# raw_data = get_data(url)\n",
    "raw_data = get_selenium_data(url)\n",
    "summary = analyse(raw_data)\n",
    "print(summary)\n"
   ]
  }
 ],
 "metadata": {
  "kernelspec": {
   "display_name": "base",
   "language": "python",
   "name": "python3"
  },
  "language_info": {
   "codemirror_mode": {
    "name": "ipython",
    "version": 3
   },
   "file_extension": ".py",
   "mimetype": "text/x-python",
   "name": "python",
   "nbconvert_exporter": "python",
   "pygments_lexer": "ipython3",
   "version": "3.12.4"
  }
 },
 "nbformat": 4,
 "nbformat_minor": 2
}
