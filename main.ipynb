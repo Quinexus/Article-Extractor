{
 "cells": [
  {
   "cell_type": "markdown",
   "metadata": {},
   "source": [
    "Importing OpenAI api. Use your own API key!"
   ]
  },
  {
   "cell_type": "code",
   "execution_count": null,
   "metadata": {},
   "outputs": [],
   "source": [
    "from openai import OpenAI\n",
    "# Use your own api key here!\n",
    "client = OpenAI(api_key=\"\")"
   ]
  },
  {
   "cell_type": "markdown",
   "metadata": {},
   "source": [
    "From your search extract the add your list of DOI as a text file in the same directory"
   ]
  },
  {
   "cell_type": "code",
   "execution_count": null,
   "metadata": {},
   "outputs": [],
   "source": [
    "doi_file = \".txt\"\n",
    "\n",
    "with open(doi_file) as f:\n",
    "    doi_list = [doi.rstrip('\\n') for doi in f]"
   ]
  },
  {
   "cell_type": "markdown",
   "metadata": {},
   "source": [
    "Load in the function to get Beautiful Soup data from a given doi"
   ]
  },
  {
   "cell_type": "code",
   "execution_count": null,
   "metadata": {},
   "outputs": [],
   "source": [
    "from bs4 import BeautifulSoup\n",
    "import requests\n",
    "\n",
    "def get_data(doi):\n",
    "    url = \"https://doi.org/\" + doi\n",
    "\n",
    "    response = requests.get(url)\n",
    "    soup = BeautifulSoup(response.content, 'html.parser')\n",
    "\n",
    "    return ''.join(soup.body.get_text().split())"
   ]
  },
  {
   "cell_type": "markdown",
   "metadata": {},
   "source": [
    "Setup the API to analyse the extracted webpage\n",
    "\n",
    "Edit as necessary the following inputs:\n",
    "1. The preferred output format\n",
    "2. The prompts for the system\n",
    "3. OpenAI model to use"
   ]
  },
  {
   "cell_type": "code",
   "execution_count": null,
   "metadata": {},
   "outputs": [],
   "source": [
    "from pydantic import BaseModel\n",
    "\n",
    "# INPUT: OpenAI preferred output format\n",
    "class PaperExtraction(BaseModel):\n",
    "    title: str\n",
    "    population: str\n",
    "    intervention: str\n",
    "    control: str\n",
    "    outcomes: str\n",
    "\n",
    "# INPUT: Edit prompts and Choose model\n",
    "system_message = \"\"\"\n",
    "    You are an assisting a researcher working on a systematic review. \n",
    "    For the given article extract the data in the requested format. \n",
    "    If no data is available respond NO DATA to all fields.\n",
    "    \"\"\"\n",
    "chat_gpt_model = \"gpt-4o\"\n",
    "\n",
    "# Load in function to analyse webpage\n",
    "def analyse(soup_content, system_message = system_message):\n",
    "    completion = client.beta.chat.completions.parse(\n",
    "        model= chat_gpt_model,\n",
    "        messages=[\n",
    "            {\n",
    "                \"role\": \"system\",\n",
    "                \"content\": system_message\n",
    "            },\n",
    "            {\n",
    "                \"role\": \"user\",\n",
    "                \"content\": \"Content:\\n \" + soup_content\n",
    "            },\n",
    "        ],\n",
    "        response_format = PaperExtraction\n",
    "    )\n",
    "    return completion.choices[0].message.content"
   ]
  },
  {
   "cell_type": "markdown",
   "metadata": {},
   "source": [
    "Analyse the data using the below code chunk"
   ]
  },
  {
   "cell_type": "code",
   "execution_count": null,
   "metadata": {},
   "outputs": [],
   "source": [
    "from tqdm import tqdm # to get progress bar\n",
    "\n",
    "compiled_data = {}\n",
    "\n",
    "for doi in tqdm(doi_list):\n",
    "    try:\n",
    "        raw_data = analyse(get_data(doi))\n",
    "        compiled_data[doi] = raw_data\n",
    "    except AttributeError:\n",
    "        compiled_data[doi] = None"
   ]
  },
  {
   "cell_type": "markdown",
   "metadata": {},
   "source": [
    "Process the code into an acceptable format and check dois with empty data"
   ]
  },
  {
   "cell_type": "code",
   "execution_count": null,
   "metadata": {},
   "outputs": [],
   "source": [
    "import json\n",
    "\n",
    "def process_data():\n",
    "    # Extract data as a dictionary and store record empty values\n",
    "    for doi in compiled_data:\n",
    "        try:\n",
    "            compiled_data[doi] = json.loads(compiled_data[doi])\n",
    "        except:\n",
    "            continue\n",
    "\n",
    "    no_data = []\n",
    "    # Check and record empty values\n",
    "    for data in compiled_data:\n",
    "        if compiled_data[data] == None:\n",
    "            no_data.append(data)\n",
    "        elif compiled_data[data]['title'] == 'NO DATA':\n",
    "            no_data.append(data)\n",
    "\n",
    "    print(len(no_data))\n",
    "    return no_data\n",
    "\n",
    "no_data = process_data()\n",
    "\n",
    "# Re run previous cell as necessary"
   ]
  },
  {
   "cell_type": "markdown",
   "metadata": {},
   "source": [
    "OPTIONAL: setting up selenium to bypass login"
   ]
  },
  {
   "cell_type": "code",
   "execution_count": null,
   "metadata": {},
   "outputs": [],
   "source": [
    "from selenium import webdriver\n",
    "from selenium.webdriver.common.by import By\n",
    "from selenium.webdriver.common.keys import Keys\n",
    "\n",
    "# Function to extract data using selenium\n",
    "def get_selenium_data(doi, driver):\n",
    "    url = \"https://doi.org/\" + doi\n",
    "\n",
    "    driver = driver\n",
    "    driver.get(url)\n",
    "\n",
    "    while input(\"Enter to extract data\"):\n",
    "        pass\n",
    "\n",
    "    page_source = driver.page_source\n",
    "    soup = BeautifulSoup(page_source, 'html.parser')\n",
    "    return ''.join(soup.body.get_text().split())\n"
   ]
  },
  {
   "cell_type": "code",
   "execution_count": null,
   "metadata": {},
   "outputs": [],
   "source": [
    "driver = webdriver.Chrome()\n",
    "\n",
    "for doi in tqdm(no_data):\n",
    "    try:\n",
    "        compiled_data[doi] = analyse(get_selenium_data(doi, driver))\n",
    "    except AttributeError:\n",
    "        continue\n",
    "\n",
    "driver.close()\n",
    "\n",
    "process_data()"
   ]
  },
  {
   "cell_type": "markdown",
   "metadata": {},
   "source": [
    "Store data into a csv file using pandas"
   ]
  },
  {
   "cell_type": "code",
   "execution_count": null,
   "metadata": {},
   "outputs": [],
   "source": [
    "import pandas as pd\n",
    "\n",
    "csv_file_name = 'extracted_data'\n",
    "\n",
    "df = pd.DataFrame(compiled_data)\n",
    "df = df.transpose()\n",
    "df.to_csv(csv_file_name + '.csv')"
   ]
  }
 ],
 "metadata": {
  "kernelspec": {
   "display_name": "base",
   "language": "python",
   "name": "python3"
  },
  "language_info": {
   "codemirror_mode": {
    "name": "ipython",
    "version": 3
   },
   "file_extension": ".py",
   "mimetype": "text/x-python",
   "name": "python",
   "nbconvert_exporter": "python",
   "pygments_lexer": "ipython3",
   "version": "3.12.4"
  }
 },
 "nbformat": 4,
 "nbformat_minor": 2
}
